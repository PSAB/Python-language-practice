{
 "cells": [
  {
   "cell_type": "code",
   "execution_count": 1,
   "metadata": {},
   "outputs": [],
   "source": [
    "mylist = [(1,2), (3,4), (5,6), (7,8)]"
   ]
  },
  {
   "cell_type": "code",
   "execution_count": 2,
   "metadata": {},
   "outputs": [
    {
     "data": {
      "text/plain": [
       "4"
      ]
     },
     "execution_count": 2,
     "metadata": {},
     "output_type": "execute_result"
    }
   ],
   "source": [
    "len(mylist)"
   ]
  },
  {
   "cell_type": "code",
   "execution_count": 3,
   "metadata": {},
   "outputs": [
    {
     "name": "stdout",
     "output_type": "stream",
     "text": [
      "(1, 2)\n",
      "(3, 4)\n",
      "(5, 6)\n",
      "(7, 8)\n"
     ]
    }
   ],
   "source": [
    "for item in mylist:\n",
    "    print(item)"
   ]
  },
  {
   "cell_type": "code",
   "execution_count": 6,
   "metadata": {},
   "outputs": [
    {
     "name": "stdout",
     "output_type": "stream",
     "text": [
      "The two elements are 1 and 2\n",
      "The two elements are 3 and 4\n",
      "The two elements are 5 and 6\n",
      "The two elements are 7 and 8\n"
     ]
    }
   ],
   "source": [
    "# this is an example of TUPLE UNPACKING\n",
    "for a, b in mylist:  \n",
    "    print(f'The two elements are {a} and {b}')"
   ]
  },
  {
   "cell_type": "code",
   "execution_count": 7,
   "metadata": {},
   "outputs": [],
   "source": [
    "mylist2 = [(1,2,3), (5,6,7), (8,9,0)]"
   ]
  },
  {
   "cell_type": "code",
   "execution_count": 8,
   "metadata": {},
   "outputs": [
    {
     "name": "stdout",
     "output_type": "stream",
     "text": [
      "Each element is 1 and 2 and 3\n",
      "Each element is 5 and 6 and 7\n",
      "Each element is 8 and 9 and 0\n"
     ]
    }
   ],
   "source": [
    "for a,b,c in mylist2:  # Another example\n",
    "    print(f'Each element is {a} and {b} and {c}')"
   ]
  },
  {
   "cell_type": "code",
   "execution_count": 9,
   "metadata": {},
   "outputs": [
    {
     "name": "stdout",
     "output_type": "stream",
     "text": [
      "k1\n",
      "k2\n",
      "k3\n"
     ]
    }
   ],
   "source": [
    "# Iterating through a dictionary\n",
    "d = {'k1':1, 'k2':2, 'k3':3}\n",
    "for item in d:\n",
    "    print(item) # By default, iterating through a dictionary only goes through the keys"
   ]
  },
  {
   "cell_type": "code",
   "execution_count": 10,
   "metadata": {},
   "outputs": [
    {
     "name": "stdout",
     "output_type": "stream",
     "text": [
      "k1, 1\n",
      "k2, 2\n",
      "k3, 3\n"
     ]
    }
   ],
   "source": [
    "# Do tuple unpacking for dictionary.items() iteration to get both keys and values:\n",
    "for key, value in d.items():\n",
    "    print(f'{key}, {value}') # Keep in mind there's no guarantee for order in dictionary, use ordereddict() for that"
   ]
  },
  {
   "cell_type": "code",
   "execution_count": 15,
   "metadata": {},
   "outputs": [],
   "source": [
    "# Using pass to prevent EOF error temporarily\n",
    "for item in [1, 2, 3]:\n",
    "    # do nothing for now\n",
    "    pass"
   ]
  },
  {
   "cell_type": "code",
   "execution_count": 20,
   "metadata": {},
   "outputs": [
    {
     "name": "stdout",
     "output_type": "stream",
     "text": [
      "s\n",
      "m\n",
      "m\n",
      "y\n"
     ]
    }
   ],
   "source": [
    "# Using continue to bypass a certain case in a loop\n",
    "s = \"sAAAAAAAAAAmmy\"\n",
    "for letter in s:\n",
    "    if letter == 'A':\n",
    "        continue # Goes back to start of loop\n",
    "    print(letter)"
   ]
  },
  {
   "cell_type": "code",
   "execution_count": 21,
   "metadata": {},
   "outputs": [
    {
     "name": "stdout",
     "output_type": "stream",
     "text": [
      "s\n",
      "I'm out of the loop\n"
     ]
    }
   ],
   "source": [
    "# Using break to exit out of a loop entirely once a certain condition is met\n",
    "s = \"sAAAAAAAAAAmmy\"\n",
    "for letter in s:\n",
    "    if letter == 'A':\n",
    "        break # Breaks out of loop\n",
    "    print(letter)\n",
    "print(\"I'm out of the loop\")"
   ]
  },
  {
   "cell_type": "code",
   "execution_count": 28,
   "metadata": {},
   "outputs": [
    {
     "name": "stdout",
     "output_type": "stream",
     "text": [
      "0\n",
      "1\n",
      "2\n",
      "3\n",
      "\n",
      "2\n",
      "3\n",
      "4\n",
      "5\n",
      "\n",
      "0\n",
      "2\n",
      "4\n",
      "6\n",
      "8\n"
     ]
    }
   ],
   "source": [
    "# Using range() \n",
    "for num in range(4):\n",
    "    print(num)\n",
    "print()\n",
    "for num2 in range(2,6):\n",
    "    print(num2)\n",
    "print()\n",
    "for num3 in range(0,10,2):\n",
    "    print(num3)"
   ]
  },
  {
   "cell_type": "code",
   "execution_count": 29,
   "metadata": {},
   "outputs": [
    {
     "name": "stdout",
     "output_type": "stream",
     "text": [
      "The letter is a with index 0\n",
      "The letter is b with index 1\n",
      "The letter is c with index 2\n",
      "The letter is d with index 3\n",
      "The letter is e with index 4\n"
     ]
    }
   ],
   "source": [
    "index_count=0\n",
    "for letter in \"abcde\":\n",
    "    print('The letter is {} with index {}'.format(letter, index_count))\n",
    "    index_count+=1"
   ]
  },
  {
   "cell_type": "code",
   "execution_count": 30,
   "metadata": {},
   "outputs": [
    {
     "name": "stdout",
     "output_type": "stream",
     "text": [
      "(0, 'a')\n",
      "(1, 'b')\n",
      "(2, 'c')\n",
      "(3, 'd')\n",
      "(4, 'e')\n"
     ]
    }
   ],
   "source": [
    "# enumerate() takes care of index count of a sequence in the form of tuple unpacking:\n",
    "word= \"abcde\"\n",
    "for item in enumerate(word):\n",
    "    print(item)"
   ]
  },
  {
   "cell_type": "code",
   "execution_count": 31,
   "metadata": {},
   "outputs": [
    {
     "name": "stdout",
     "output_type": "stream",
     "text": [
      "The letter is a with index 0\n",
      "The letter is b with index 1\n",
      "The letter is c with index 2\n",
      "The letter is d with index 3\n",
      "The letter is e with index 4\n"
     ]
    }
   ],
   "source": [
    "# Use enumerate() with tuple unpacking:\n",
    "for index, letter in enumerate(word):\n",
    "    print(\"The letter is {} with index {}\".format(letter, index))"
   ]
  },
  {
   "cell_type": "code",
   "execution_count": 44,
   "metadata": {},
   "outputs": [
    {
     "name": "stdout",
     "output_type": "stream",
     "text": [
      "(1, 'a')\n",
      "(2, 'b')\n",
      "(3, 'c')\n"
     ]
    }
   ],
   "source": [
    "# Use zip() with tuple unpacking to iterate through multiple sequence objects:\n",
    "list1 = [1,2,3]\n",
    "list2 = ['a','b','c']\n",
    "for item in zip(list1, list2):\n",
    "    print(item)"
   ]
  },
  {
   "cell_type": "code",
   "execution_count": 45,
   "metadata": {},
   "outputs": [
    {
     "name": "stdout",
     "output_type": "stream",
     "text": [
      "The letter is a with index 1\n",
      "The letter is b with index 2\n",
      "The letter is c with index 3\n"
     ]
    }
   ],
   "source": [
    "# Use zip() with tuple unpacking:\n",
    "for index, letter in zip(list1, list2):\n",
    "    print('The letter is {} with index {}'.format(letter, index))"
   ]
  },
  {
   "cell_type": "code",
   "execution_count": 46,
   "metadata": {},
   "outputs": [
    {
     "data": {
      "text/plain": [
       "[9, 5, 2, 7, 3, 1, 8, 10, 6, 4]"
      ]
     },
     "execution_count": 46,
     "metadata": {},
     "output_type": "execute_result"
    }
   ],
   "source": [
    "from random import shuffle # Randomly shuffles a list\n",
    "mylist = [1,2,3,4,5,6,7,8,9,10]\n",
    "shuffle(mylist)\n",
    "mylist"
   ]
  },
  {
   "cell_type": "code",
   "execution_count": 60,
   "metadata": {},
   "outputs": [
    {
     "data": {
      "text/plain": [
       "24"
      ]
     },
     "execution_count": 60,
     "metadata": {},
     "output_type": "execute_result"
    }
   ],
   "source": [
    "from random import randint # Random number from specified range\n",
    "randint(0,100)"
   ]
  },
  {
   "cell_type": "code",
   "execution_count": 61,
   "metadata": {},
   "outputs": [
    {
     "name": "stdout",
     "output_type": "stream",
     "text": [
      "Enter something human: Elon Musk\n"
     ]
    }
   ],
   "source": [
    "result = input(\"Enter something human: \") # Store user input"
   ]
  },
  {
   "cell_type": "code",
   "execution_count": 62,
   "metadata": {},
   "outputs": [
    {
     "data": {
      "text/plain": [
       "'Elon Musk'"
      ]
     },
     "execution_count": 62,
     "metadata": {},
     "output_type": "execute_result"
    }
   ],
   "source": [
    "result"
   ]
  },
  {
   "cell_type": "code",
   "execution_count": null,
   "metadata": {},
   "outputs": [],
   "source": []
  }
 ],
 "metadata": {
  "kernelspec": {
   "display_name": "Python 3",
   "language": "python",
   "name": "python3"
  },
  "language_info": {
   "codemirror_mode": {
    "name": "ipython",
    "version": 3
   },
   "file_extension": ".py",
   "mimetype": "text/x-python",
   "name": "python",
   "nbconvert_exporter": "python",
   "pygments_lexer": "ipython3",
   "version": "3.7.4"
  }
 },
 "nbformat": 4,
 "nbformat_minor": 2
}
